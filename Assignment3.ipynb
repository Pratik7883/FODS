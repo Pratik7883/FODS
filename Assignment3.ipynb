{
 "cells": [
  {
   "cell_type": "code",
   "execution_count": 5,
   "id": "d516cc58-0b56-4803-bb60-5714ca3d467e",
   "metadata": {},
   "outputs": [],
   "source": [
    "#Assignmnet 3 (123B2F153)\n",
    "import pandas as pd\n",
    "import seaborn as sns\n",
    "import matplotlib.pyplot as plt\n",
    "import numpy as np"
   ]
  },
  {
   "cell_type": "code",
   "execution_count": 6,
   "id": "7662235e-0e60-43b6-a426-287e42a46362",
   "metadata": {},
   "outputs": [],
   "source": [
    "iris = pd.read_csv(\"C:/123B2F153/DataSets/iris.csv\")\n"
   ]
  },
  {
   "cell_type": "code",
   "execution_count": 7,
   "id": "4b4b810d-e5c8-48c0-89df-44f572c1cc1f",
   "metadata": {},
   "outputs": [],
   "source": [
    "iris1 = sns.load_dataset('iris')"
   ]
  },
  {
   "cell_type": "code",
   "execution_count": 37,
   "id": "bae87607-3f91-4e5b-8318-c1a72732d9ba",
   "metadata": {},
   "outputs": [
    {
     "data": {
      "text/html": [
       "<div>\n",
       "<style scoped>\n",
       "    .dataframe tbody tr th:only-of-type {\n",
       "        vertical-align: middle;\n",
       "    }\n",
       "\n",
       "    .dataframe tbody tr th {\n",
       "        vertical-align: top;\n",
       "    }\n",
       "\n",
       "    .dataframe thead th {\n",
       "        text-align: right;\n",
       "    }\n",
       "</style>\n",
       "<table border=\"1\" class=\"dataframe\">\n",
       "  <thead>\n",
       "    <tr style=\"text-align: right;\">\n",
       "      <th></th>\n",
       "      <th>sepal_length</th>\n",
       "      <th>sepal_width</th>\n",
       "      <th>petal_length</th>\n",
       "      <th>petal_width</th>\n",
       "      <th>species</th>\n",
       "    </tr>\n",
       "  </thead>\n",
       "  <tbody>\n",
       "    <tr>\n",
       "      <th>0</th>\n",
       "      <td>5.1</td>\n",
       "      <td>3.5</td>\n",
       "      <td>1.4</td>\n",
       "      <td>0.2</td>\n",
       "      <td>setosa</td>\n",
       "    </tr>\n",
       "    <tr>\n",
       "      <th>1</th>\n",
       "      <td>4.9</td>\n",
       "      <td>3.0</td>\n",
       "      <td>1.4</td>\n",
       "      <td>0.2</td>\n",
       "      <td>setosa</td>\n",
       "    </tr>\n",
       "    <tr>\n",
       "      <th>2</th>\n",
       "      <td>4.7</td>\n",
       "      <td>3.2</td>\n",
       "      <td>1.3</td>\n",
       "      <td>0.2</td>\n",
       "      <td>setosa</td>\n",
       "    </tr>\n",
       "    <tr>\n",
       "      <th>3</th>\n",
       "      <td>4.6</td>\n",
       "      <td>3.1</td>\n",
       "      <td>1.5</td>\n",
       "      <td>0.2</td>\n",
       "      <td>setosa</td>\n",
       "    </tr>\n",
       "    <tr>\n",
       "      <th>4</th>\n",
       "      <td>5.0</td>\n",
       "      <td>3.6</td>\n",
       "      <td>1.4</td>\n",
       "      <td>0.2</td>\n",
       "      <td>setosa</td>\n",
       "    </tr>\n",
       "    <tr>\n",
       "      <th>...</th>\n",
       "      <td>...</td>\n",
       "      <td>...</td>\n",
       "      <td>...</td>\n",
       "      <td>...</td>\n",
       "      <td>...</td>\n",
       "    </tr>\n",
       "    <tr>\n",
       "      <th>145</th>\n",
       "      <td>6.7</td>\n",
       "      <td>3.0</td>\n",
       "      <td>5.2</td>\n",
       "      <td>2.3</td>\n",
       "      <td>virginica</td>\n",
       "    </tr>\n",
       "    <tr>\n",
       "      <th>146</th>\n",
       "      <td>6.3</td>\n",
       "      <td>2.5</td>\n",
       "      <td>5.0</td>\n",
       "      <td>1.9</td>\n",
       "      <td>virginica</td>\n",
       "    </tr>\n",
       "    <tr>\n",
       "      <th>147</th>\n",
       "      <td>6.5</td>\n",
       "      <td>3.0</td>\n",
       "      <td>5.2</td>\n",
       "      <td>2.0</td>\n",
       "      <td>virginica</td>\n",
       "    </tr>\n",
       "    <tr>\n",
       "      <th>148</th>\n",
       "      <td>6.2</td>\n",
       "      <td>3.4</td>\n",
       "      <td>5.4</td>\n",
       "      <td>2.3</td>\n",
       "      <td>virginica</td>\n",
       "    </tr>\n",
       "    <tr>\n",
       "      <th>149</th>\n",
       "      <td>5.9</td>\n",
       "      <td>3.0</td>\n",
       "      <td>5.1</td>\n",
       "      <td>1.8</td>\n",
       "      <td>virginica</td>\n",
       "    </tr>\n",
       "  </tbody>\n",
       "</table>\n",
       "<p>150 rows × 5 columns</p>\n",
       "</div>"
      ],
      "text/plain": [
       "     sepal_length  sepal_width  petal_length  petal_width    species\n",
       "0             5.1          3.5           1.4          0.2     setosa\n",
       "1             4.9          3.0           1.4          0.2     setosa\n",
       "2             4.7          3.2           1.3          0.2     setosa\n",
       "3             4.6          3.1           1.5          0.2     setosa\n",
       "4             5.0          3.6           1.4          0.2     setosa\n",
       "..            ...          ...           ...          ...        ...\n",
       "145           6.7          3.0           5.2          2.3  virginica\n",
       "146           6.3          2.5           5.0          1.9  virginica\n",
       "147           6.5          3.0           5.2          2.0  virginica\n",
       "148           6.2          3.4           5.4          2.3  virginica\n",
       "149           5.9          3.0           5.1          1.8  virginica\n",
       "\n",
       "[150 rows x 5 columns]"
      ]
     },
     "execution_count": 37,
     "metadata": {},
     "output_type": "execute_result"
    }
   ],
   "source": [
    "iris1"
   ]
  },
  {
   "cell_type": "code",
   "execution_count": 8,
   "id": "3ffbd058-38c7-4e30-b7cb-5d5f762f0001",
   "metadata": {},
   "outputs": [],
   "source": [
    "iris_numerical = iris.drop(columns=['species'])"
   ]
  },
  {
   "cell_type": "code",
   "execution_count": 9,
   "id": "94958e62-86c9-45e4-92dc-962d1bf8be5c",
   "metadata": {},
   "outputs": [
    {
     "name": "stdout",
     "output_type": "stream",
     "text": [
      "              sepal_length  sepal_width  petal_length  petal_width\n",
      "sepal_length      1.000000    -0.109369      0.871754     0.817954\n",
      "sepal_width      -0.109369     1.000000     -0.420516    -0.356544\n",
      "petal_length      0.871754    -0.420516      1.000000     0.962757\n",
      "petal_width       0.817954    -0.356544      0.962757     1.000000\n"
     ]
    }
   ],
   "source": [
    "correlation_matrix = iris_numerical.corr()\n",
    "print(correlation_matrix)"
   ]
  },
  {
   "cell_type": "code",
   "execution_count": 10,
   "id": "dc1004cb-d787-46d9-bcec-bc335df6fc3f",
   "metadata": {},
   "outputs": [
    {
     "data": {
      "image/png": "[encoded data removed]",
      "text/plain": [
       "<Figure size 600x600 with 2 Axes>"
      ]
     },
     "metadata": {},
     "output_type": "display_data"
    }
   ],
   "source": [
    "plt.figure(figsize=(6, 6)) \n",
    "sns.heatmap(correlation_matrix, annot=True, cmap='coolwarm', linewidths=0.5)\n",
    "plt.show()"
   ]
  },
  {
   "cell_type": "code",
   "execution_count": 11,
   "id": "cb537315-1ad8-4fe5-b2c1-68baa05ccda3",
   "metadata": {},
   "outputs": [],
   "source": [
    "mean1 = iris1.sepal_length.mean()\n",
    "mean2 = iris1.sepal_width.mean()\n",
    "mean3 = iris1.petal_length.mean()\n",
    "mean4 = iris1.petal_width.mean()"
   ]
  },
  {
   "cell_type": "code",
   "execution_count": 12,
   "id": "e5d36e34-d796-4e5e-99a7-a8e62568ef8d",
   "metadata": {},
   "outputs": [],
   "source": [
    "X = iris['sepal_length'].values\n",
    "Y = iris['sepal_width'].values"
   ]
  },
  {
   "cell_type": "code",
   "execution_count": 13,
   "id": "a9f5a999-f2a0-440f-a69f-528d44fdbf47",
   "metadata": {},
   "outputs": [],
   "source": [
    "X_mean = iris['sepal_length'].mean()\n",
    "Y_mean = iris['sepal_width'].mean()"
   ]
  },
  {
   "cell_type": "code",
   "execution_count": 14,
   "id": "407bbd3e-c26f-495b-900f-cded76ac1900",
   "metadata": {},
   "outputs": [],
   "source": [
    "X_diff = X-X_mean\n",
    "Y_diff = Y-Y_mean"
   ]
  },
  {
   "cell_type": "code",
   "execution_count": 15,
   "id": "19fcedd6-9ba8-41ab-99c0-36672717d400",
   "metadata": {},
   "outputs": [],
   "source": [
    "numerator = np.sum(X_diff *Y_diff)"
   ]
  },
  {
   "cell_type": "code",
   "execution_count": 16,
   "id": "857da64c-655d-41cb-a024-32f1dba02ccd",
   "metadata": {},
   "outputs": [],
   "source": [
    "squared_X_diff = np.sum(X_diff ** 2)\n",
    "squared_Y_diff = np.sum(Y_diff ** 2)"
   ]
  },
  {
   "cell_type": "code",
   "execution_count": 17,
   "id": "21cfde34-b0aa-4d75-9a01-0434cd3c3532",
   "metadata": {},
   "outputs": [],
   "source": [
    "denominator = np.sqrt(squared_X_diff *squared_Y_diff )"
   ]
  },
  {
   "cell_type": "code",
   "execution_count": 18,
   "id": "d6a43c7c-81e4-4bb1-b1d4-1d5805a28c0a",
   "metadata": {},
   "outputs": [],
   "source": [
    "correlation = numerator / denominator"
   ]
  },
  {
   "cell_type": "code",
   "execution_count": 19,
   "id": "c35983a5-84b7-4213-9504-7106b1d31c4e",
   "metadata": {},
   "outputs": [
    {
     "data": {
      "text/plain": [
       "np.float64(-0.10936924995064935)"
      ]
     },
     "execution_count": 19,
     "metadata": {},
     "output_type": "execute_result"
    }
   ],
   "source": [
    "correlation"
   ]
  },
  {
   "cell_type": "code",
   "execution_count": null,
   "id": "4decf994-42ea-4735-8a77-0e27d4fab9a2",
   "metadata": {},
   "outputs": [],
   "source": []
  }
 ],
 "metadata": {
  "kernelspec": {
   "display_name": "Python 3 (ipykernel)",
   "language": "python",
   "name": "python3"
  },
  "language_info": {
   "codemirror_mode": {
    "name": "ipython",
    "version": 3
   },
   "file_extension": ".py",
   "mimetype": "text/x-python",
   "name": "python",
   "nbconvert_exporter": "python",
   "pygments_lexer": "ipython3",
   "version": "3.12.6"
  }
 },
 "nbformat": 4,
 "nbformat_minor": 5
}
