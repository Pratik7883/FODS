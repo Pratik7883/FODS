{
 "cells": [
  {
   "cell_type": "code",
   "execution_count": null,
   "id": "e98bd82e-0da0-41ce-9175-8c4610f29fbf",
   "metadata": {},
   "outputs": [],
   "source": [
    "#123B2F153\n",
    "#Perform the following operations using Python on the Air  quality data sets a. Data cleaning b. Data transformation"
   ]
  },
  {
   "cell_type": "code",
   "execution_count": 31,
   "id": "686de9be-c714-452d-8b42-c45ac7af27e4",
   "metadata": {},
   "outputs": [],
   "source": [
    "import pandas as pd\n",
    "from sklearn.model_selection import train_test_split\n",
    "from sklearn.preprocessing import LabelEncoder, StandardScaler\n",
    "import matplotlib.pyplot as plt\n",
    "import seaborn as sns"
   ]
  },
  {
   "cell_type": "code",
   "execution_count": 33,
   "id": "8a19ab54-02cc-40d7-bf30-2cd70be80c13",
   "metadata": {},
   "outputs": [
    {
     "name": "stdout",
     "output_type": "stream",
     "text": [
      "<class 'pandas.core.frame.DataFrame'>\n",
      "RangeIndex: 16218 entries, 0 to 16217\n",
      "Data columns (total 11 columns):\n",
      " #   Column          Non-Null Count  Dtype  \n",
      "---  ------          --------------  -----  \n",
      " 0   Unique ID       16218 non-null  int64  \n",
      " 1   Indicator ID    16218 non-null  int64  \n",
      " 2   Name            16218 non-null  object \n",
      " 3   Measure         16218 non-null  object \n",
      " 4   Measure Info    16218 non-null  int64  \n",
      " 5   Geo Type Name   16218 non-null  object \n",
      " 6   Geo Join ID     16218 non-null  int64  \n",
      " 7   Geo Place Name  16218 non-null  int64  \n",
      " 8   Time Period     16218 non-null  object \n",
      " 9   Start_Date      16218 non-null  object \n",
      " 10  Data Value      16218 non-null  float64\n",
      "dtypes: float64(1), int64(5), object(5)\n",
      "memory usage: 1.4+ MB\n"
     ]
    }
   ],
   "source": [
    "df.info()"
   ]
  },
  {
   "cell_type": "code",
   "execution_count": 34,
   "id": "e66f2b9f-9c98-4d6d-86b9-bddd853007e1",
   "metadata": {},
   "outputs": [
    {
     "data": {
      "text/html": [
       "<div>\n",
       "<style scoped>\n",
       "    .dataframe tbody tr th:only-of-type {\n",
       "        vertical-align: middle;\n",
       "    }\n",
       "\n",
       "    .dataframe tbody tr th {\n",
       "        vertical-align: top;\n",
       "    }\n",
       "\n",
       "    .dataframe thead th {\n",
       "        text-align: right;\n",
       "    }\n",
       "</style>\n",
       "<table border=\"1\" class=\"dataframe\">\n",
       "  <thead>\n",
       "    <tr style=\"text-align: right;\">\n",
       "      <th></th>\n",
       "      <th>Unique ID</th>\n",
       "      <th>Indicator ID</th>\n",
       "      <th>Name</th>\n",
       "      <th>Measure</th>\n",
       "      <th>Measure Info</th>\n",
       "      <th>Geo Type Name</th>\n",
       "      <th>Geo Join ID</th>\n",
       "      <th>Geo Place Name</th>\n",
       "      <th>Time Period</th>\n",
       "      <th>Start_Date</th>\n",
       "      <th>Data Value</th>\n",
       "    </tr>\n",
       "  </thead>\n",
       "  <tbody>\n",
       "    <tr>\n",
       "      <th>0</th>\n",
       "      <td>172653</td>\n",
       "      <td>375</td>\n",
       "      <td>Nitrogen dioxide (NO2)</td>\n",
       "      <td>Mean</td>\n",
       "      <td>6</td>\n",
       "      <td>UHF34</td>\n",
       "      <td>203</td>\n",
       "      <td>5</td>\n",
       "      <td>Annual Average 2011</td>\n",
       "      <td>12/01/2010</td>\n",
       "      <td>0.249703</td>\n",
       "    </tr>\n",
       "    <tr>\n",
       "      <th>1</th>\n",
       "      <td>172585</td>\n",
       "      <td>375</td>\n",
       "      <td>Nitrogen dioxide (NO2)</td>\n",
       "      <td>Mean</td>\n",
       "      <td>6</td>\n",
       "      <td>UHF34</td>\n",
       "      <td>203</td>\n",
       "      <td>5</td>\n",
       "      <td>Annual Average 2009</td>\n",
       "      <td>12/01/2008</td>\n",
       "      <td>0.326151</td>\n",
       "    </tr>\n",
       "    <tr>\n",
       "      <th>2</th>\n",
       "      <td>336637</td>\n",
       "      <td>375</td>\n",
       "      <td>Nitrogen dioxide (NO2)</td>\n",
       "      <td>Mean</td>\n",
       "      <td>6</td>\n",
       "      <td>UHF34</td>\n",
       "      <td>204</td>\n",
       "      <td>30</td>\n",
       "      <td>Annual Average 2015</td>\n",
       "      <td>01/01/2015</td>\n",
       "      <td>-0.041550</td>\n",
       "    </tr>\n",
       "    <tr>\n",
       "      <th>3</th>\n",
       "      <td>336622</td>\n",
       "      <td>375</td>\n",
       "      <td>Nitrogen dioxide (NO2)</td>\n",
       "      <td>Mean</td>\n",
       "      <td>6</td>\n",
       "      <td>UHF34</td>\n",
       "      <td>103</td>\n",
       "      <td>38</td>\n",
       "      <td>Annual Average 2015</td>\n",
       "      <td>01/01/2015</td>\n",
       "      <td>-0.010127</td>\n",
       "    </tr>\n",
       "    <tr>\n",
       "      <th>4</th>\n",
       "      <td>172582</td>\n",
       "      <td>375</td>\n",
       "      <td>Nitrogen dioxide (NO2)</td>\n",
       "      <td>Mean</td>\n",
       "      <td>6</td>\n",
       "      <td>UHF34</td>\n",
       "      <td>104</td>\n",
       "      <td>73</td>\n",
       "      <td>Annual Average 2009</td>\n",
       "      <td>12/01/2008</td>\n",
       "      <td>0.133858</td>\n",
       "    </tr>\n",
       "  </tbody>\n",
       "</table>\n",
       "</div>"
      ],
      "text/plain": [
       "   Unique ID  Indicator ID                    Name Measure  Measure Info  \\\n",
       "0     172653           375  Nitrogen dioxide (NO2)    Mean             6   \n",
       "1     172585           375  Nitrogen dioxide (NO2)    Mean             6   \n",
       "2     336637           375  Nitrogen dioxide (NO2)    Mean             6   \n",
       "3     336622           375  Nitrogen dioxide (NO2)    Mean             6   \n",
       "4     172582           375  Nitrogen dioxide (NO2)    Mean             6   \n",
       "\n",
       "  Geo Type Name  Geo Join ID  Geo Place Name          Time Period  Start_Date  \\\n",
       "0         UHF34          203               5  Annual Average 2011  12/01/2010   \n",
       "1         UHF34          203               5  Annual Average 2009  12/01/2008   \n",
       "2         UHF34          204              30  Annual Average 2015  01/01/2015   \n",
       "3         UHF34          103              38  Annual Average 2015  01/01/2015   \n",
       "4         UHF34          104              73  Annual Average 2009  12/01/2008   \n",
       "\n",
       "   Data Value  \n",
       "0    0.249703  \n",
       "1    0.326151  \n",
       "2   -0.041550  \n",
       "3   -0.010127  \n",
       "4    0.133858  "
      ]
     },
     "execution_count": 34,
     "metadata": {},
     "output_type": "execute_result"
    }
   ],
   "source": [
    "df.head()"
   ]
  },
  {
   "cell_type": "code",
   "execution_count": 22,
   "id": "9a125e9a-83e4-4d74-8285-4edfc5648c73",
   "metadata": {},
   "outputs": [],
   "source": [
    "df = pd.read_csv('C:/Users/prati.PRATIK.001/Desktop/FODS/Dataset/Air_Quality.csv')"
   ]
  },
  {
   "cell_type": "code",
   "execution_count": 23,
   "id": "bbc8ec18-8628-4ace-af6f-8b54d4d84aa9",
   "metadata": {},
   "outputs": [],
   "source": [
    "df = df.drop(columns=['Message'])"
   ]
  },
  {
   "cell_type": "code",
   "execution_count": 24,
   "id": "f5e7c559-a775-4e14-b563-e21be88b2d40",
   "metadata": {},
   "outputs": [],
   "source": [
    "df = df.drop_duplicates()"
   ]
  },
  {
   "cell_type": "code",
   "execution_count": 25,
   "id": "9750a44b-1274-417e-a2e0-b59b369a5cdc",
   "metadata": {},
   "outputs": [],
   "source": [
    "df['Data Value'] = df['Data Value'].fillna(df['Data Value'].mean())"
   ]
  },
  {
   "cell_type": "code",
   "execution_count": 26,
   "id": "e29772dd-ba81-49a0-ba87-0eedd7241c19",
   "metadata": {},
   "outputs": [],
   "source": [
    "label_encoder_geo_place = LabelEncoder()\n",
    "label_encoder_measure_info = LabelEncoder()\n",
    "df['Geo Place Name'] = label_encoder_geo_place.fit_transform(df['Geo Place Name'])\n",
    "df['Measure Info'] = label_encoder_measure_info.fit_transform(df['Measure Info'])"
   ]
  },
  {
   "cell_type": "code",
   "execution_count": 27,
   "id": "3fc4c93a-7918-44d3-acd1-61ddaf23b996",
   "metadata": {},
   "outputs": [],
   "source": [
    "scaler = StandardScaler()\n",
    "df[['Data Value']] = scaler.fit_transform(df[['Data Value']])"
   ]
  },
  {
   "cell_type": "code",
   "execution_count": 28,
   "id": "3187d2e9-97e2-4326-92a6-807b0bc98f4b",
   "metadata": {},
   "outputs": [],
   "source": [
    "X = df.drop(columns=['Data Value'])  \n",
    "y = df['Data Value']\n"
   ]
  },
  {
   "cell_type": "code",
   "execution_count": 29,
   "id": "99580796-e305-4ba6-81a5-59f50665586e",
   "metadata": {},
   "outputs": [],
   "source": [
    "X_train, X_test, y_train, y_test = train_test_split(X, y, test_size=0.2, random_state=42)"
   ]
  },
  {
   "cell_type": "code",
   "execution_count": 30,
   "id": "7c9673e4-2340-4b94-a1df-061e1c4de1d8",
   "metadata": {},
   "outputs": [
    {
     "name": "stdout",
     "output_type": "stream",
     "text": [
      "X_train shape: (12974, 10)\n",
      "X_test shape: (3244, 10)\n",
      "y_train shape: (12974,)\n",
      "y_test shape: (3244,)\n",
      "   Unique ID  Indicator ID                    Name Measure  Measure Info  \\\n",
      "0     172653           375  Nitrogen dioxide (NO2)    Mean             6   \n",
      "1     172585           375  Nitrogen dioxide (NO2)    Mean             6   \n",
      "2     336637           375  Nitrogen dioxide (NO2)    Mean             6   \n",
      "3     336622           375  Nitrogen dioxide (NO2)    Mean             6   \n",
      "4     172582           375  Nitrogen dioxide (NO2)    Mean             6   \n",
      "\n",
      "  Geo Type Name  Geo Join ID  Geo Place Name          Time Period  Start_Date  \\\n",
      "0         UHF34          203               5  Annual Average 2011  12/01/2010   \n",
      "1         UHF34          203               5  Annual Average 2009  12/01/2008   \n",
      "2         UHF34          204              30  Annual Average 2015  01/01/2015   \n",
      "3         UHF34          103              38  Annual Average 2015  01/01/2015   \n",
      "4         UHF34          104              73  Annual Average 2009  12/01/2008   \n",
      "\n",
      "   Data Value  \n",
      "0    0.249703  \n",
      "1    0.326151  \n",
      "2   -0.041550  \n",
      "3   -0.010127  \n",
      "4    0.133858  \n"
     ]
    }
   ],
   "source": [
    "print(\"X_train shape:\", X_train.shape)\n",
    "print(\"X_test shape:\", X_test.shape)\n",
    "print(\"y_train shape:\", y_train.shape)\n",
    "print(\"y_test shape:\", y_test.shape)\n",
    "print(df.head())"
   ]
  }
 ],
 "metadata": {
  "kernelspec": {
   "display_name": "Python 3 (ipykernel)",
   "language": "python",
   "name": "python3"
  },
  "language_info": {
   "codemirror_mode": {
    "name": "ipython",
    "version": 3
   },
   "file_extension": ".py",
   "mimetype": "text/x-python",
   "name": "python",
   "nbconvert_exporter": "python",
   "pygments_lexer": "ipython3",
   "version": "3.12.6"
  }
 },
 "nbformat": 4,
 "nbformat_minor": 5
}
