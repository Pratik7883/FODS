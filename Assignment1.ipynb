{
 "cells": [
  {
   "cell_type": "markdown",
   "id": "bc9519b6",
   "metadata": {},
   "source": [
    "# FODS Assignment 1"
   ]
  },
  {
   "cell_type": "markdown",
   "id": "fea3df22",
   "metadata": {},
   "source": [
    "READING AND WRITING DIFFERENT TYPES OF DATASETS: Reading different types of data sets such as .txt, .csv, .xml from Web and disk and writing in file in specific disk location. Get familiar with dataset"
   ]
  },
  {
   "cell_type": "markdown",
   "id": "f41af0e0",
   "metadata": {},
   "source": [
    "Reading csv from url and system\n"
   ]
  },
  {
   "cell_type": "code",
   "execution_count": 1,
   "id": "b01bbd84",
   "metadata": {},
   "outputs": [
    {
     "name": "stdout",
     "output_type": "stream",
     "text": [
      "     sepal_length  sepal_width  petal_length  petal_width    species\n",
      "0             5.1          3.5           1.4          0.2     setosa\n",
      "1             4.9          3.0           1.4          0.2     setosa\n",
      "2             4.7          3.2           1.3          0.2     setosa\n",
      "3             4.6          3.1           1.5          0.2     setosa\n",
      "4             5.0          3.6           1.4          0.2     setosa\n",
      "..            ...          ...           ...          ...        ...\n",
      "145           6.7          3.0           5.2          2.3  virginica\n",
      "146           6.3          2.5           5.0          1.9  virginica\n",
      "147           6.5          3.0           5.2          2.0  virginica\n",
      "148           6.2          3.4           5.4          2.3  virginica\n",
      "149           5.9          3.0           5.1          1.8  virginica\n",
      "\n",
      "[150 rows x 5 columns]\n"
     ]
    }
   ],
   "source": [
    "import pandas as pd\n",
    "df_csv = pd.read_csv(\"C:/123B2F153/DataSets/iris.csv\")\n",
    "print(df_csv)"
   ]
  },
  {
   "cell_type": "code",
   "execution_count": 2,
   "id": "a7becf30",
   "metadata": {},
   "outputs": [
    {
     "name": "stdout",
     "output_type": "stream",
     "text": [
      "DataFrame written to C:/123B2F153/DataSets/iris - iris-op.csv\n"
     ]
    }
   ],
   "source": [
    "df = pd.DataFrame({\n",
    "    'sepal_length': [5.1, 4.9, 4.7],\n",
    "    'sepal_width': [3.5, 3.0, 3.2],\n",
    "    'petal_length': [1.4, 1.4, 1.3],\n",
    "    'petal_width': [0.2, 0.2, 0.2],\n",
    "    'species': ['setosa', 'setosa', 'setosa']\n",
    "})\n",
    "\n",
    "# Specify the file path\n",
    "file_path = \"C:/123B2F153/DataSets/iris - iris-op.csv\"\n",
    "\n",
    "# Write the DataFrame to a CSV file\n",
    "df.to_csv(file_path, index=False)\n",
    "\n",
    "print(f\"DataFrame written to {file_path}\")"
   ]
  },
  {
   "cell_type": "code",
   "execution_count": 3,
   "id": "12c019d9",
   "metadata": {
    "scrolled": true
   },
   "outputs": [
    {
     "name": "stdout",
     "output_type": "stream",
     "text": [
      "   sepal_length  sepal_width  petal_length  petal_width      species\n",
      "0           5.1          3.5           1.4          0.2  Iris-setosa\n",
      "1           4.9          3.0           1.4          0.2  Iris-setosa\n",
      "2           4.7          3.2           1.3          0.2  Iris-setosa\n",
      "3           4.6          3.1           1.5          0.2  Iris-setosa\n",
      "4           5.0          3.6           1.4          0.2  Iris-setosa\n"
     ]
    }
   ],
   "source": [
    "url = \"https://archive.ics.uci.edu/ml/machine-learning-databases/iris/iris.data\"\n",
    "df = pd.read_csv(url, header=None, names=['sepal_length', 'sepal_width', 'petal_length', 'petal_width', 'species'])\n",
    "print(df.head())"
   ]
  },
  {
   "cell_type": "code",
   "execution_count": 4,
   "id": "4087f1cd",
   "metadata": {},
   "outputs": [],
   "source": [
    "#Reading XML file"
   ]
  },
  {
   "cell_type": "code",
   "execution_count": 5,
   "id": "e07f6d08",
   "metadata": {},
   "outputs": [
    {
     "name": "stdout",
     "output_type": "stream",
     "text": [
      "<Element 'CATALOG' at 0x000001C36FEA8BD0>\n"
     ]
    }
   ],
   "source": [
    "import xml.etree.ElementTree as ET\n",
    "\n",
    "# Load the XML file\n",
    "tree = ET.parse(\"C:/123B2F153/DataSets/temp.xml\")  # Updated the path\n",
    "root = tree.getroot()\n",
    "\n",
    "# Print the root element\n",
    "print(root)\n",
    "\n"
   ]
  },
  {
   "cell_type": "code",
   "execution_count": 6,
   "id": "4655b0ba",
   "metadata": {
    "scrolled": true
   },
   "outputs": [
    {
     "name": "stdout",
     "output_type": "stream",
     "text": [
      "Title: Empire Burlesque, Artist: Bob Dylan, Country: USA, Company: Columbia, Price: 10.90, Year: 1985\n",
      "Title: Hide your heart, Artist: Bonnie Tyler, Country: UK, Company: CBS, Price: 9.90, Year: 1988\n",
      "Title: Greatest Hits, Artist: Dolly Parton, Country: USA, Company: RCA, Price: 9.90, Year: 1982\n"
     ]
    }
   ],
   "source": [
    "import xml.etree.ElementTree as ET\n",
    "\n",
    "# Load the XML file\n",
    "tree = ET.parse(\"C:/123B2F153/DataSets/Temp.xml\")\n",
    "root = tree.getroot()\n",
    "\n",
    "# Iterate over all the CD elements and print the data\n",
    "for cd in root.findall('CD'):\n",
    "    title = cd.find('TITLE').text\n",
    "    artist = cd.find('ARTIST').text\n",
    "    country = cd.find('COUNTRY').text\n",
    "    company = cd.find('COMPANY').text\n",
    "    price = cd.find('PRICE').text\n",
    "    year = cd.find('YEAR').text\n",
    "\n",
    "    print(f\"Title: {title}, Artist: {artist}, Country: {country}, Company: {company}, Price: {price}, Year: {year}\")\n"
   ]
  },
  {
   "cell_type": "markdown",
   "id": "1ab3afb2",
   "metadata": {},
   "source": [
    "Reading and writing in .txt files"
   ]
  },
  {
   "cell_type": "code",
   "execution_count": 7,
   "id": "6cd20e0f",
   "metadata": {},
   "outputs": [
    {
     "name": "stdout",
     "output_type": "stream",
     "text": [
      "Name: Pratik, Age: 18\n",
      "Name: Saurabh, Age: 15\n",
      "Name: Adhik, Age: 20\n",
      "Name: Lucky, Age: 12\n",
      "Name: Pratik, Age: 20\n"
     ]
    }
   ],
   "source": [
    "file_path = \"C:/123B2F153/DataSets/temp.txt\"\n",
    "\n",
    "with open(file_path, \"r\") as file:\n",
    "    data = file.readlines()\n",
    "for line in data:\n",
    "    name, age = line.strip().split(',')\n",
    "    print(f\"Name: {name.strip()}, Age: {age.strip()}\")\n"
   ]
  },
  {
   "cell_type": "code",
   "execution_count": 8,
   "id": "e326fc72",
   "metadata": {},
   "outputs": [
    {
     "name": "stdout",
     "output_type": "stream",
     "text": [
      "\n",
      "Updated data:\n",
      "Name: Pratik, Age: 18\n",
      "Name: Saurabh, Age: 15\n",
      "Name: Adhik, Age: 20\n",
      "Name: Lucky, Age: 12\n",
      "Name: Pratik, Age: 20\n",
      "Name: Pratik, Age: 20\n"
     ]
    }
   ],
   "source": [
    "# Specify the file path\n",
    "file_path = \"C:/123B2F153/DataSets/temp.txt\"\n",
    "\n",
    "# Open the file and read the lines\n",
    "with open(file_path, \"r\") as file:\n",
    "    data = file.readlines()\n",
    "\n",
    "# New entry to add\n",
    "new_entry = \"Pratik,20\\n\"  # Add newline character to the end\n",
    "\n",
    "# Append the new entry to the data list\n",
    "data.append(new_entry)\n",
    "\n",
    "# Write the updated data back to the file\n",
    "with open(file_path, \"w\") as file:\n",
    "    file.writelines(data)\n",
    "\n",
    "# Print the updated data\n",
    "print(\"\\nUpdated data:\")\n",
    "for line in data:\n",
    "    name, age = line.strip().split(',')  # Split the line by comma\n",
    "    print(f\"Name: {name.strip()}, Age: {age.strip()}\")  # Print formatted output\n"
   ]
  }
 ],
 "metadata": {
  "kernelspec": {
   "display_name": "Python 3 (ipykernel)",
   "language": "python",
   "name": "python3"
  },
  "language_info": {
   "codemirror_mode": {
    "name": "ipython",
    "version": 3
   },
   "file_extension": ".py",
   "mimetype": "text/x-python",
   "name": "python",
   "nbconvert_exporter": "python",
   "pygments_lexer": "ipython3",
   "version": "3.12.6"
  }
 },
 "nbformat": 4,
 "nbformat_minor": 5
}
